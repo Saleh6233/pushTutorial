{
 "cells": [
  {
   "cell_type": "markdown",
   "id": "748c3920-75b5-4ae1-b0b2-ace742f6fc81",
   "metadata": {},
   "source": [
    "<a target=\"_blank\" href=\"https://colab.research.google.com/github/Saleh6233/pushTutorial/blob/master/assignment2.ipynb\">\n",
    "  <img src=\"https://colab.research.google.com/assets/colab-badge.svg\" alt=\"Open In Colab\"/>\n",
    "</a>"
   ]
  },
  {
   "cell_type": "markdown",
   "id": "8cefcea8-8365-4b9a-a990-10193aabb99b",
   "metadata": {},
   "source": [
    "# Write a python multi-threaded code to perform few different tasks"
   ]
  },
  {
   "cell_type": "code",
   "execution_count": 3,
   "id": "06da432a-4831-4a75-99ee-a08c22a80184",
   "metadata": {},
   "outputs": [],
   "source": [
    "import threading\n",
    "import time\n",
    "import numpy as np"
   ]
  },
  {
   "cell_type": "markdown",
   "id": "701f7299-bed8-4656-b0f2-b7b85f3f4aac",
   "metadata": {},
   "source": [
    "### Task 1 : creating some random integer array ranging from 1 to 100"
   ]
  },
  {
   "cell_type": "code",
   "execution_count": 5,
   "id": "d91b0f1b-61a0-43e1-8a0f-fd9bb825f2b8",
   "metadata": {},
   "outputs": [],
   "source": [
    "def random_integer():\n",
    "    for i in range(1,4):\n",
    "        x = np.random.randint(100, size=(i,3))\n",
    "        print(f\"Some random integer array: {x}\")\n",
    "        time.sleep(0.5)"
   ]
  },
  {
   "cell_type": "markdown",
   "id": "89f89de6-5a32-4c8f-80ce-439f8276983a",
   "metadata": {},
   "source": [
    "### Task 2 : creating some random float array ranging from 0 to 1"
   ]
  },
  {
   "cell_type": "code",
   "execution_count": 7,
   "id": "bf6f1348-ca71-4c4e-bbda-684167b66cf6",
   "metadata": {},
   "outputs": [],
   "source": [
    "def random_float():\n",
    "    for i in range(1,4):\n",
    "        x = np.random.rand(i,3)\n",
    "        print(f\"Some random float array: {x}\")\n",
    "        time.sleep(0.5)"
   ]
  },
  {
   "cell_type": "markdown",
   "id": "331cd494-8fd6-47b9-a09b-f0f4af51bf06",
   "metadata": {},
   "source": [
    "### Task 3 : creating some linearly spaced array ranging from 1 to 100"
   ]
  },
  {
   "cell_type": "code",
   "execution_count": 9,
   "id": "e75387a6-bbb2-4e18-9fae-b1715f50953e",
   "metadata": {},
   "outputs": [],
   "source": [
    "def random_linspace():\n",
    "    for i in range(1,4):\n",
    "        y = np.linspace(0., 1., i*2).reshape(i,2)\n",
    "        print(f\"Some linearly spaced array: {y}\")\n",
    "        time.sleep(0.5)"
   ]
  },
  {
   "cell_type": "markdown",
   "id": "0563c48a-acbe-4682-9612-4b6e37b08272",
   "metadata": {},
   "source": [
    "## Creating and joinng all threads"
   ]
  },
  {
   "cell_type": "code",
   "execution_count": 11,
   "id": "b67652ba-c45d-471b-b91b-8a00d1036f70",
   "metadata": {},
   "outputs": [
    {
     "name": "stdout",
     "output_type": "stream",
     "text": [
      "Some random integer array: [[10 85 72]]\n",
      "Some random float array: [[0.54328319 0.55557182 0.82561186]]\n",
      "Some linearly spaced array: [[0. 1.]]\n",
      "Some random integer array: [[56 59 25]\n",
      " [96 13 13]]Some random float array: [[0.17895782 0.03222834 0.88652966]\n",
      " [0.80589309 0.05551978 0.38979546]]\n",
      "\n",
      "Some linearly spaced array: [[0.         0.33333333]\n",
      " [0.66666667 1.        ]]\n",
      "Some random float array: [[0.09313128 0.63043081 0.60905924]\n",
      " [0.70199708 0.61927491 0.77079877]\n",
      " [0.57683375 0.55791999 0.82933005]]\n",
      "Some linearly spaced array: [[0.  0.2]\n",
      " [0.4 0.6]\n",
      " [0.8 1. ]]\n",
      "Some random integer array: [[75 36 92]\n",
      " [30 54 28]\n",
      " [30 68  4]]\n",
      "All tasks completed.\n"
     ]
    }
   ],
   "source": [
    "t1 = threading.Thread(target=random_integer)\n",
    "t2 = threading.Thread(target=random_float)\n",
    "t3 = threading.Thread(target=random_linspace)\n",
    "\n",
    "\n",
    "t1.start()\n",
    "t2.start()\n",
    "t3.start()\n",
    "\n",
    "\n",
    "t1.join()\n",
    "t2.join()\n",
    "t3.join()\n",
    "\n",
    "print(\"All tasks completed.\")"
   ]
  },
  {
   "cell_type": "code",
   "execution_count": null,
   "id": "91bba360-658a-4c76-bee4-86d7fb9847fc",
   "metadata": {},
   "outputs": [],
   "source": []
  }
 ],
 "metadata": {
  "kernelspec": {
   "display_name": "Python 3 (ipykernel)",
   "language": "python",
   "name": "python3"
  },
  "language_info": {
   "codemirror_mode": {
    "name": "ipython",
    "version": 3
   },
   "file_extension": ".py",
   "mimetype": "text/x-python",
   "name": "python",
   "nbconvert_exporter": "python",
   "pygments_lexer": "ipython3",
   "version": "3.11.9"
  }
 },
 "nbformat": 4,
 "nbformat_minor": 5
}
