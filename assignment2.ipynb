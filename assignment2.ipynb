{
 "cells": [
  {
   "cell_type": "markdown",
   "id": "d4279451-c599-4713-b997-decc57bd1406",
   "metadata": {},
   "source": [
    "<a target=\"_blank\" href=\"https://colab.research.google.com/github/GoogleCloudPlatform/vertex-ai-samples/blob/main/notebooks/official/model_monitoring/model_monitoring.ipynb\">"
   ]
  },
  {
   "cell_type": "markdown",
   "id": "748c3920-75b5-4ae1-b0b2-ace742f6fc81",
   "metadata": {},
   "source": [
    "<a target=\"_blank\" href=\"https://colab.research.google.com/github/Saleh6233/pushTutorial/blob/master/assignment2.ipynb\">\n",
    "  <img src=\"https://colab.research.google.com/assets/colab-badge.svg\" alt=\"Open In Colab\"/>\n",
    "</a>"
   ]
  },
  {
   "cell_type": "markdown",
   "id": "8cefcea8-8365-4b9a-a990-10193aabb99b",
   "metadata": {},
   "source": [
    "# Write a python multi-threaded code to perform few different tasks"
   ]
  },
  {
   "cell_type": "code",
   "execution_count": null,
   "id": "06da432a-4831-4a75-99ee-a08c22a80184",
   "metadata": {},
   "outputs": [],
   "source": [
    "import threading\n",
    "import time\n",
    "import numpy as np"
   ]
  },
  {
   "cell_type": "markdown",
   "id": "62f7fcd1-8a88-45a6-befb-dc59dba5a806",
   "metadata": {},
   "source": [
    "<a target=\"_blank\" href=\"https://colab.research.google.com/github/GoogleCloudPlatform/vertex-ai-samples/blob/main/notebooks/official/model_monitoring/model_monitoring.ipynb\">"
   ]
  },
  {
   "cell_type": "code",
   "execution_count": null,
   "id": "d91b0f1b-61a0-43e1-8a0f-fd9bb825f2b8",
   "metadata": {},
   "outputs": [],
   "source": []
  }
 ],
 "metadata": {
  "kernelspec": {
   "display_name": "Python 3 (ipykernel)",
   "language": "python",
   "name": "python3"
  },
  "language_info": {
   "codemirror_mode": {
    "name": "ipython",
    "version": 3
   },
   "file_extension": ".py",
   "mimetype": "text/x-python",
   "name": "python",
   "nbconvert_exporter": "python",
   "pygments_lexer": "ipython3",
   "version": "3.11.9"
  }
 },
 "nbformat": 4,
 "nbformat_minor": 5
}
